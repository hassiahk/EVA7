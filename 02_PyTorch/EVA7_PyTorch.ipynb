{
  "nbformat": 4,
  "nbformat_minor": 0,
  "metadata": {
    "colab": {
      "name": "EVA6 Session 3 - Assignment.ipynb",
      "provenance": [],
      "collapsed_sections": []
    },
    "kernelspec": {
      "name": "python3",
      "display_name": "Python 3",
      "language": "python"
    },
    "language_info": {
      "name": "python",
      "version": "3.8.2"
    },
    "accelerator": "GPU"
  },
  "cells": [
    {
      "cell_type": "markdown",
      "metadata": {
        "id": "4rvU15OuJlWc"
      },
      "source": [
        "### Import necessary libraries"
      ]
    },
    {
      "cell_type": "code",
      "metadata": {
        "id": "sEEhuky5L3Q0"
      },
      "source": [
        "import torch\n",
        "import torch.nn as nn\n",
        "import torch.nn.functional as F\n",
        "import torch.optim as optim\n",
        "from torch.utils.data import Dataset, DataLoader\n",
        "\n",
        "import torchvision.transforms as T\n",
        "from torchvision import datasets\n",
        "\n",
        "import numpy as np\n",
        "import random\n",
        "import matplotlib.pyplot as plt"
      ],
      "execution_count": 1,
      "outputs": []
    },
    {
      "cell_type": "markdown",
      "metadata": {
        "id": "zkxPMQgoJqnV"
      },
      "source": [
        "### Download MNIST train and test set"
      ]
    },
    {
      "cell_type": "code",
      "metadata": {
        "id": "nUw3WglEODAB"
      },
      "source": [
        "mnist_train = datasets.MNIST(root='./data', download=False, train=True, transform=T.ToTensor())\n",
        "mnist_test = datasets.MNIST(root='./data', download=False, train=False, transform=T.ToTensor())"
      ],
      "execution_count": 4,
      "outputs": []
    },
    {
      "cell_type": "code",
      "metadata": {
        "id": "v0hOOdFrO2ol",
        "colab": {
          "base_uri": "https://localhost:8080/"
        },
        "outputId": "c67625c4-0da6-4e93-9b86-a3c5cd5baee5"
      },
      "source": [
        "len(mnist_train), len(mnist_test)"
      ],
      "execution_count": 5,
      "outputs": [
        {
          "output_type": "execute_result",
          "data": {
            "text/plain": [
              "(60000, 10000)"
            ]
          },
          "metadata": {},
          "execution_count": 5
        }
      ]
    },
    {
      "cell_type": "markdown",
      "metadata": {
        "id": "p5QNSsMwJw_S"
      },
      "source": [
        "### Seed everything for reproducibility"
      ]
    },
    {
      "cell_type": "code",
      "metadata": {
        "id": "ukWVvb0ldx6N"
      },
      "source": [
        "def seed_everything(seed):\n",
        "    random.seed(seed)\n",
        "    np.random.seed(seed)\n",
        "    torch.manual_seed(seed)\n",
        "    torch.cuda.manual_seed(seed)\n",
        "    torch.cuda.manual_seed_all(seed)\n",
        "    torch.backends.cudnn.deterministic = True\n",
        "\n",
        "seed_everything(43)"
      ],
      "execution_count": 6,
      "outputs": []
    },
    {
      "cell_type": "markdown",
      "metadata": {
        "id": "9PixEyiYJ2PC"
      },
      "source": [
        "### Custom Dataset"
      ]
    },
    {
      "cell_type": "code",
      "metadata": {
        "id": "AYVS0GknPLWV"
      },
      "source": [
        "class MNISTRandDataset(Dataset):\n",
        "    def __init__(self, mnist):\n",
        "        self.mnist = mnist\n",
        "\n",
        "    def __len__(self):\n",
        "        return len(self.mnist)\n",
        "\n",
        "    def __getitem__(self, idx):\n",
        "        image, label = self.mnist[idx]\n",
        "\n",
        "        rand_num = random.randint(0, 9)\n",
        "\n",
        "        rand_num_tensor = F.one_hot(torch.tensor(rand_num), num_classes=10)\n",
        "        sum_label = label + rand_num\n",
        "        self.sum_label = sum_label\n",
        "        return image, rand_num_tensor, label, self.sum_label"
      ],
      "execution_count": 7,
      "outputs": []
    },
    {
      "cell_type": "markdown",
      "metadata": {
        "id": "LNn7MhBRJ5sQ"
      },
      "source": [
        "### Train and Test Datasets"
      ]
    },
    {
      "cell_type": "code",
      "metadata": {
        "id": "HngSYEhZj54j"
      },
      "source": [
        "train_ds = MNISTRandDataset(mnist_train)\n",
        "test_ds = MNISTRandDataset(mnist_test)"
      ],
      "execution_count": 8,
      "outputs": []
    },
    {
      "cell_type": "code",
      "execution_count": 23,
      "metadata": {},
      "outputs": [
        {
          "output_type": "execute_result",
          "data": {
            "text/plain": [
              "60000"
            ]
          },
          "metadata": {},
          "execution_count": 23
        }
      ],
      "source": [
        "len(train_ds)"
      ]
    },
    {
      "cell_type": "code",
      "metadata": {
        "id": "3XXOqw1JkG5W",
        "colab": {
          "base_uri": "https://localhost:8080/"
        },
        "outputId": "a3585c85-e27f-400f-f4a7-fb2413086bb8"
      },
      "source": [
        "train_ds[0][0].shape"
      ],
      "execution_count": 7,
      "outputs": [
        {
          "output_type": "execute_result",
          "data": {
            "text/plain": [
              "torch.Size([1, 28, 28])"
            ]
          },
          "metadata": {
            "tags": []
          },
          "execution_count": 7
        }
      ]
    },
    {
      "cell_type": "markdown",
      "metadata": {
        "id": "yA7C8Z7zJ-E4"
      },
      "source": [
        "### Train and Test Loaders"
      ]
    },
    {
      "cell_type": "code",
      "metadata": {
        "id": "J1FC7yIwtxn8"
      },
      "source": [
        "train_loader = DataLoader(train_ds, 64, shuffle=True, num_workers=2, pin_memory=True)\n",
        "test_loader = DataLoader(test_ds, 64, shuffle=False, num_workers=2, pin_memory=True)"
      ],
      "execution_count": 8,
      "outputs": []
    },
    {
      "cell_type": "markdown",
      "metadata": {
        "id": "4Tx2ovbLKBc8"
      },
      "source": [
        "### Model"
      ]
    },
    {
      "cell_type": "code",
      "metadata": {
        "id": "yzaHYAltvd42"
      },
      "source": [
        "class MNISTRandSumModel(nn.Module):\n",
        "    def __init__(self):\n",
        "        super().__init__()\n",
        "\n",
        "        self.conv1 = nn.Conv2d(1, 32, 3, padding=1)\n",
        "        self.conv2 = nn.Conv2d(32, 64, 3, padding=1)\n",
        "        self.conv3 = nn.Conv2d(64, 128, 3, padding=1)\n",
        "        self.conv4 = nn.Conv2d(128, 256, 3, padding=1)\n",
        "        self.conv5 = nn.Conv2d(256, 256, 3)\n",
        "        self.conv6 = nn.Conv2d(256, 512, 3)\n",
        "\n",
        "        self.fc1 = nn.Linear(3*3*512, 1024)\n",
        "        self.fc2 = nn.Linear(1024, 10)\n",
        "\n",
        "        self.fc3 = nn.Linear(20, 19)\n",
        "\n",
        "    def forward(self, image, rand_num):\n",
        "        # (1) hidden conv1 layer\n",
        "        image = self.conv1(image)\n",
        "        image = F.relu(image)\n",
        "\n",
        "        # (2) hidden conv2 layer\n",
        "        image = self.conv2(image)\n",
        "        image = F.relu(image)\n",
        "        image = F.max_pool2d(image, kernel_size=2, stride=2)\n",
        "\n",
        "        # (3) hidden conv3 layer\n",
        "        image = self.conv3(image)\n",
        "        image = F.relu(image)\n",
        "\n",
        "        # (4) hidden conv4 layer\n",
        "        image = self.conv4(image)\n",
        "        image = F.relu(image)\n",
        "        image = F.max_pool2d(image, kernel_size=2, stride=2)\n",
        "\n",
        "        # (5) hidden conv5 layer\n",
        "        image = self.conv5(image)\n",
        "        image = F.relu(image)\n",
        "\n",
        "        # (6) hidden conv6 layer\n",
        "        image = self.conv6(image)\n",
        "        image = F.relu(image)\n",
        "\n",
        "        # (7) hidden linear layer\n",
        "        image = torch.flatten(image, 1)\n",
        "        image = self.fc1(image)\n",
        "        image = F.relu(image)\n",
        "\n",
        "        # (8) hidden linear layer\n",
        "        image = self.fc2(image)\n",
        "        out = image.clone()\n",
        "\n",
        "        # (9) output layer\n",
        "        sum_out = torch.cat((out, rand_num), dim=1)\n",
        "        sum_out = self.fc3(sum_out)\n",
        "\n",
        "        return out, sum_out"
      ],
      "execution_count": 9,
      "outputs": []
    },
    {
      "cell_type": "markdown",
      "metadata": {
        "id": "tH8ogt0kKEQy"
      },
      "source": [
        "### Get the default device"
      ]
    },
    {
      "cell_type": "code",
      "metadata": {
        "id": "ch9fUlSK-5ql",
        "colab": {
          "base_uri": "https://localhost:8080/"
        },
        "outputId": "89cf9a40-5981-4077-c213-d65340acd953"
      },
      "source": [
        "def get_default_device():\n",
        "    \"\"\"\n",
        "    Pick GPU if available, else CPU.\n",
        "    \"\"\"\n",
        "    if torch.cuda.is_available():\n",
        "        return torch.device('cuda')\n",
        "    else:\n",
        "        return torch.device('cpu')\n",
        "\n",
        "device = get_default_device()\n",
        "device"
      ],
      "execution_count": 10,
      "outputs": [
        {
          "output_type": "execute_result",
          "data": {
            "text/plain": [
              "device(type='cuda')"
            ]
          },
          "metadata": {
            "tags": []
          },
          "execution_count": 10
        }
      ]
    },
    {
      "cell_type": "markdown",
      "metadata": {
        "id": "oc4btUZrKIAY"
      },
      "source": [
        "### Create a model and move it to GPU"
      ]
    },
    {
      "cell_type": "code",
      "metadata": {
        "colab": {
          "base_uri": "https://localhost:8080/"
        },
        "id": "7FTdZlBfBOjc",
        "outputId": "e94570ec-4207-4f94-aa6d-47debaddbeb5"
      },
      "source": [
        "model = MNISTRandSumModel()\n",
        "model.to(device)"
      ],
      "execution_count": 11,
      "outputs": [
        {
          "output_type": "execute_result",
          "data": {
            "text/plain": [
              "MNISTRandSumModel(\n",
              "  (conv1): Conv2d(1, 32, kernel_size=(3, 3), stride=(1, 1), padding=(1, 1))\n",
              "  (conv2): Conv2d(32, 64, kernel_size=(3, 3), stride=(1, 1), padding=(1, 1))\n",
              "  (conv3): Conv2d(64, 128, kernel_size=(3, 3), stride=(1, 1), padding=(1, 1))\n",
              "  (conv4): Conv2d(128, 256, kernel_size=(3, 3), stride=(1, 1), padding=(1, 1))\n",
              "  (conv5): Conv2d(256, 256, kernel_size=(3, 3), stride=(1, 1))\n",
              "  (conv6): Conv2d(256, 512, kernel_size=(3, 3), stride=(1, 1))\n",
              "  (fc1): Linear(in_features=4608, out_features=1024, bias=True)\n",
              "  (fc2): Linear(in_features=1024, out_features=10, bias=True)\n",
              "  (fc3): Linear(in_features=20, out_features=19, bias=True)\n",
              ")"
            ]
          },
          "metadata": {
            "tags": []
          },
          "execution_count": 11
        }
      ]
    },
    {
      "cell_type": "markdown",
      "metadata": {
        "id": "HEAO46hvKLiA"
      },
      "source": [
        "### Accuracy metric"
      ]
    },
    {
      "cell_type": "code",
      "metadata": {
        "id": "S9srlVYBaXiT"
      },
      "source": [
        "def accuracy(outputs, labels):\n",
        "    \"\"\"\n",
        "    Calculates the accuracy.\n",
        "    \"\"\"\n",
        "    _, preds = torch.max(outputs, dim=1)\n",
        "    return torch.tensor(torch.sum(preds == labels).item() / len(preds))"
      ],
      "execution_count": 12,
      "outputs": []
    },
    {
      "cell_type": "markdown",
      "metadata": {
        "id": "a4hLAZWHKOOA"
      },
      "source": [
        "### Training and Testing"
      ]
    },
    {
      "cell_type": "code",
      "metadata": {
        "colab": {
          "base_uri": "https://localhost:8080/"
        },
        "id": "05dl2RtIDTb3",
        "outputId": "586d4c99-e0e1-494a-923d-57a1bb06ed74"
      },
      "source": [
        "optimizer = optim.Adam(model.parameters(), lr=0.001)\n",
        "\n",
        "history = []\n",
        "\n",
        "for epoch in range(25):\n",
        "    result = {}\n",
        "\n",
        "    train_losses = []\n",
        "    test_losses = []\n",
        "    train_accuracies_mnist = []\n",
        "    train_accuracies_rand = []\n",
        "    test_accuracies_mnist = []\n",
        "    test_accuracies_rand = []\n",
        "\n",
        "    # Training\n",
        "    for images, rand_nums, labels, sums in train_loader:\n",
        "        images, rand_nums, labels, sums = images.to(device), rand_nums.to(device), labels.to(device), sums.to(device)\n",
        "        output_mnist, output_sum = model(images, rand_nums)\n",
        "\n",
        "        loss_mnist = F.cross_entropy(output_mnist, labels)\n",
        "        loss_rand = F.cross_entropy(output_sum, sums)\n",
        "\n",
        "        loss = loss_mnist + loss_rand\n",
        "        train_losses.append(loss)\n",
        "\n",
        "        optimizer.zero_grad()\n",
        "\n",
        "        loss.backward()\n",
        "\n",
        "        optimizer.step()\n",
        "\n",
        "        train_accuracies_mnist.append(accuracy(output_mnist, labels))\n",
        "        train_accuracies_rand.append(accuracy(output_sum, sums))\n",
        "\n",
        "    # Testing\n",
        "    with torch.no_grad():\n",
        "        for images, rand_nums, labels, sums in test_loader:\n",
        "            images, rand_nums, labels, sums = images.to(device), rand_nums.to(device), labels.to(device), sums.to(device)\n",
        "\n",
        "            output_mnist, output_sum = model(images, rand_nums)\n",
        "\n",
        "            test_loss = F.cross_entropy(output_mnist, labels) + F.cross_entropy(output_sum, sums)\n",
        "            test_losses.append(test_loss)\n",
        "\n",
        "            test_accuracies_mnist.append(accuracy(output_mnist, labels))\n",
        "            test_accuracies_rand.append(accuracy(output_sum, sums))\n",
        "\n",
        "    result['train_loss'] = torch.stack(train_losses).mean().item()\n",
        "    result['test_loss'] = torch.stack(test_losses).mean().item()\n",
        "\n",
        "    train_accuracy_mnist = torch.stack(train_accuracies_mnist).mean().item()\n",
        "    train_accuracy_rand = torch.stack(train_accuracies_rand).mean().item()\n",
        "\n",
        "    result['train_accuracy'] = (train_accuracy_mnist + train_accuracy_rand) / 2\n",
        "\n",
        "    test_accuracy_mnist = torch.stack(test_accuracies_mnist).mean().item()\n",
        "    test_accuracy_rand = torch.stack(test_accuracies_rand).mean().item()\n",
        "\n",
        "    result['test_accuracy'] = (test_accuracy_mnist + test_accuracy_rand) / 2\n",
        "\n",
        "    history.append(result)\n",
        "\n",
        "    print(f\"Epoch [{epoch}], train_loss: {result['train_loss']:.4f}, test_loss: {result['test_loss']:.4f}, train_accuracy: {result['train_accuracy']:.4f}, test_accuracy: {result['test_accuracy']:.4f}\")"
      ],
      "execution_count": 13,
      "outputs": [
        {
          "output_type": "stream",
          "text": [
            "Epoch [0], train_loss: 2.5492, test_loss: 2.1538, train_accuracy: 0.5539, test_accuracy: 0.6157\n",
            "Epoch [1], train_loss: 2.0288, test_loss: 1.9166, train_accuracy: 0.6379, test_accuracy: 0.6677\n",
            "Epoch [2], train_loss: 1.8538, test_loss: 1.7890, train_accuracy: 0.6590, test_accuracy: 0.6556\n",
            "Epoch [3], train_loss: 1.7354, test_loss: 1.6887, train_accuracy: 0.6698, test_accuracy: 0.6729\n",
            "Epoch [4], train_loss: 1.6427, test_loss: 1.6336, train_accuracy: 0.6838, test_accuracy: 0.6787\n",
            "Epoch [5], train_loss: 1.5697, test_loss: 1.5666, train_accuracy: 0.6903, test_accuracy: 0.6873\n",
            "Epoch [6], train_loss: 1.5064, test_loss: 1.5122, train_accuracy: 0.7048, test_accuracy: 0.7041\n",
            "Epoch [7], train_loss: 1.4579, test_loss: 1.4675, train_accuracy: 0.7137, test_accuracy: 0.7034\n",
            "Epoch [8], train_loss: 1.4077, test_loss: 1.4417, train_accuracy: 0.7243, test_accuracy: 0.7197\n",
            "Epoch [9], train_loss: 1.3722, test_loss: 1.3894, train_accuracy: 0.7322, test_accuracy: 0.7418\n",
            "Epoch [10], train_loss: 1.3267, test_loss: 1.3440, train_accuracy: 0.7470, test_accuracy: 0.7263\n",
            "Epoch [11], train_loss: 1.2992, test_loss: 1.3434, train_accuracy: 0.7557, test_accuracy: 0.7641\n",
            "Epoch [12], train_loss: 1.2665, test_loss: 1.3225, train_accuracy: 0.7674, test_accuracy: 0.7719\n",
            "Epoch [13], train_loss: 1.2462, test_loss: 1.2662, train_accuracy: 0.7765, test_accuracy: 0.7609\n",
            "Epoch [14], train_loss: 1.2106, test_loss: 1.2563, train_accuracy: 0.7872, test_accuracy: 0.7828\n",
            "Epoch [15], train_loss: 1.1854, test_loss: 1.2311, train_accuracy: 0.7948, test_accuracy: 0.7956\n",
            "Epoch [16], train_loss: 1.1744, test_loss: 1.2170, train_accuracy: 0.7980, test_accuracy: 0.8012\n",
            "Epoch [17], train_loss: 1.1452, test_loss: 1.1833, train_accuracy: 0.8084, test_accuracy: 0.8011\n",
            "Epoch [18], train_loss: 1.1216, test_loss: 1.1598, train_accuracy: 0.8173, test_accuracy: 0.8145\n",
            "Epoch [19], train_loss: 1.1093, test_loss: 1.1917, train_accuracy: 0.8227, test_accuracy: 0.7955\n",
            "Epoch [20], train_loss: 1.0872, test_loss: 1.1439, train_accuracy: 0.8311, test_accuracy: 0.8182\n",
            "Epoch [21], train_loss: 1.0702, test_loss: 1.1174, train_accuracy: 0.8397, test_accuracy: 0.8364\n",
            "Epoch [22], train_loss: 1.0520, test_loss: 1.1036, train_accuracy: 0.8414, test_accuracy: 0.8429\n",
            "Epoch [23], train_loss: 1.0417, test_loss: 1.0885, train_accuracy: 0.8497, test_accuracy: 0.8560\n",
            "Epoch [24], train_loss: 1.0298, test_loss: 1.0912, train_accuracy: 0.8548, test_accuracy: 0.8288\n"
          ],
          "name": "stdout"
        }
      ]
    },
    {
      "cell_type": "markdown",
      "metadata": {
        "id": "TnZ8snQyKTSG"
      },
      "source": [
        "### Plot Accuracies and Losses"
      ]
    },
    {
      "cell_type": "code",
      "metadata": {
        "id": "hL134pAoiazb"
      },
      "source": [
        "def plot_accuracies(history):\n",
        "    train_accuracies = [x['train_accuracy'] for x in history]\n",
        "    test_accuracies = [x['test_accuracy'] for x in history]\n",
        "    plt.figure(figsize=(12, 8))\n",
        "    plt.plot(train_accuracies, '-x')\n",
        "    plt.plot(test_accuracies, '-x')\n",
        "    plt.xlabel('epoch')\n",
        "    plt.ylabel('accuracy')\n",
        "    plt.legend(['train_accuracy', 'test_accuracy'])\n",
        "    plt.title('Accuracy vs. No. of epochs')\n",
        "    plt.savefig('Accuracy.png');"
      ],
      "execution_count": 14,
      "outputs": []
    },
    {
      "cell_type": "code",
      "metadata": {
        "colab": {
          "base_uri": "https://localhost:8080/",
          "height": 513
        },
        "id": "RZGFn7AHim7p",
        "outputId": "b337c515-c62a-4564-ea55-84aa12f4f4cf"
      },
      "source": [
        "plot_accuracies(history)"
      ],
      "execution_count": 15,
      "outputs": [
        {
          "output_type": "display_data",
          "data": {
            "image/png": "[encoded data removed]",
            "text/plain": [
              "<Figure size 864x576 with 1 Axes>"
            ]
          },
          "metadata": {
            "tags": [],
            "needs_background": "light"
          }
        }
      ]
    },
    {
      "cell_type": "code",
      "metadata": {
        "id": "nPqzM_AslHBw"
      },
      "source": [
        "def plot_losses(history):\n",
        "    train_losses = [x['train_loss'] for x in history]\n",
        "    test_losses = [x['test_loss'] for x in history]\n",
        "    plt.figure(figsize=(12, 8))\n",
        "    plt.plot(train_losses, '-x')\n",
        "    plt.plot(test_losses, '-x')\n",
        "    plt.xlabel('epoch')\n",
        "    plt.ylabel('loss')\n",
        "    plt.legend(['train_loss', 'test_loss'])\n",
        "    plt.title('Loss vs. No. of epochs')\n",
        "    plt.savefig('Loss.png');"
      ],
      "execution_count": 16,
      "outputs": []
    },
    {
      "cell_type": "code",
      "metadata": {
        "colab": {
          "base_uri": "https://localhost:8080/",
          "height": 513
        },
        "id": "7EFrTwB-mbp_",
        "outputId": "84838830-46da-4146-9b9a-3d40fa78d1c4"
      },
      "source": [
        "plot_losses(history)"
      ],
      "execution_count": 17,
      "outputs": [
        {
          "output_type": "display_data",
          "data": {
            "image/png": "[encoded data removed]",
            "text/plain": [
              "<Figure size 864x576 with 1 Axes>"
            ]
          },
          "metadata": {
            "tags": [],
            "needs_background": "light"
          }
        }
      ]
    },
    {
      "cell_type": "code",
      "metadata": {
        "id": "niZM1NVvmeYx"
      },
      "source": [],
      "execution_count": 17,
      "outputs": []
    }
  ]
}